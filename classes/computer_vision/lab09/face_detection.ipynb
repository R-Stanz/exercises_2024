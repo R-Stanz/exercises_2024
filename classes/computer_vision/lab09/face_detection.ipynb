{
 "cells": [
  {
   "cell_type": "code",
   "execution_count": 15,
   "id": "62c7007a-5da4-49bf-b508-b6e9420d84f6",
   "metadata": {},
   "outputs": [],
   "source": [
    "import cv2 "
   ]
  },
  {
   "cell_type": "code",
   "execution_count": 16,
   "id": "c967bcd6-27eb-4e93-aa75-b485d8f2ad45",
   "metadata": {},
   "outputs": [],
   "source": [
    "img = cv2.imread('./images/faces_no_boxes_10.jpg') \n",
    "gray_img = cv2.cvtColor(img, cv2.COLOR_BGR2GRAY) \n",
    "\n",
    "haar_cascade = cv2.CascadeClassifier('data/haarcascades/haarcascade_frontalface_alt.xml') \n",
    "\n",
    "faces_rect = haar_cascade.detectMultiScale(gray_img, 1.1, 9) \n",
    "\n",
    "for (x, y, w, h) in faces_rect: \n",
    "\tcv2.rectangle(img, (x, y), (x+w, y+h), (0, 255, 0), 2) \n",
    "\n",
    "while True:\n",
    "    cv2.imshow('Detected faces', img) \n",
    "\n",
    "    if cv2.waitKey(1) & 0xFF == ord('q'):\n",
    "        break\n",
    "\n",
    "cv2.destroyAllWindows()"
   ]
  },
  {
   "cell_type": "code",
   "execution_count": 20,
   "id": "72ff2fba-b367-45aa-83dd-2fd29ecd222b",
   "metadata": {},
   "outputs": [],
   "source": [
    "def detectAndWrite(img_path, annotated_path):\n",
    "    img = cv2.imread(img_path) \n",
    "    gray_img = cv2.cvtColor(img, cv2.COLOR_BGR2GRAY) \n",
    "    \n",
    "    haar_cascade = cv2.CascadeClassifier('data/haarcascades/haarcascade_frontalface_alt.xml') \n",
    "    \n",
    "    faces_rect = haar_cascade.detectMultiScale(gray_img, 1.1, 9) \n",
    "    \n",
    "    for (x, y, w, h) in faces_rect: \n",
    "    \tcv2.rectangle(img, (x, y), (x+w, y+h), (0, 255, 0), 2) \n",
    "    \n",
    "    cv2.imwrite(annotated_path, img)"
   ]
  },
  {
   "cell_type": "code",
   "execution_count": 21,
   "id": "2eb2c115-4b3b-4f18-8d7e-d124706b0ded",
   "metadata": {},
   "outputs": [],
   "source": [
    "for i in range(10):\n",
    "    detectAndWrite(f'./images/faces_no_boxes_{i+1}.jpg', f'./images/faces_cascade_{i+1}.jpg')"
   ]
  },
  {
   "cell_type": "code",
   "execution_count": null,
   "id": "03efaec4-9832-45ef-8246-ba327e518c4b",
   "metadata": {},
   "outputs": [],
   "source": [
    "from retinaface import RetinaFace\n",
    "import matplotlib.pyplot as plt\n",
    "\n",
    "faces = RetinaFace.extract_faces(img_path = './images/no_faces_1.jpg', align = False)\n",
    "for face in faces:\n",
    "    plt.imshow(face)\n",
    "    plt.show()"
   ]
  },
  {
   "cell_type": "code",
   "execution_count": null,
   "id": "92d72389-9bcd-4011-99fc-d10090708f9f",
   "metadata": {},
   "outputs": [],
   "source": [
    "from yolov8 import YOLOv8\n",
    "\n",
    "model = YOLOv8(weights=\"path/to/weights\")\n",
    "results = model.detect(\"path/to/image.jpg\")"
   ]
  }
 ],
 "metadata": {
  "kernelspec": {
   "display_name": "Python 3 (ipykernel)",
   "language": "python",
   "name": "python3"
  },
  "language_info": {
   "codemirror_mode": {
    "name": "ipython",
    "version": 3
   },
   "file_extension": ".py",
   "mimetype": "text/x-python",
   "name": "python",
   "nbconvert_exporter": "python",
   "pygments_lexer": "ipython3",
   "version": "3.10.12"
  }
 },
 "nbformat": 4,
 "nbformat_minor": 5
}
