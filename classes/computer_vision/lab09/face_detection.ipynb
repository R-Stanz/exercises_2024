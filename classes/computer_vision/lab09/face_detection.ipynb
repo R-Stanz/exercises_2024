{
 "cells": [
  {
   "cell_type": "code",
   "execution_count": 1,
   "id": "62c7007a-5da4-49bf-b508-b6e9420d84f6",
   "metadata": {},
   "outputs": [],
   "source": [
    "import cv2\n",
    "from ultralytics import YOLO"
   ]
  },
  {
   "cell_type": "code",
   "execution_count": 59,
   "id": "c967bcd6-27eb-4e93-aa75-b485d8f2ad45",
   "metadata": {},
   "outputs": [],
   "source": [
    "img = cv2.imread('./images/faces_no_boxes_9.jpg') \n",
    "gray_img = cv2.cvtColor(img, cv2.COLOR_BGR2GRAY) \n",
    "\n",
    "haar_cascade = cv2.CascadeClassifier('data/haarcascades/haarcascade_frontalface_alt.xml') \n",
    "\n",
    "faces_rect = haar_cascade.detectMultiScale(gray_img, 1.1, 9) \n",
    "\n",
    "for (x, y, w, h) in faces_rect: \n",
    "\tcv2.rectangle(img, (x, y), (x+w, y+h), (0, 255, 0), 2) \n",
    "\n",
    "while True:\n",
    "    cv2.imshow('Detected faces', img) \n",
    "\n",
    "    if cv2.waitKey(1) & 0xFF == ord('q'):\n",
    "        break\n",
    "\n",
    "cv2.destroyAllWindows()"
   ]
  },
  {
   "cell_type": "code",
   "execution_count": 60,
   "id": "72ff2fba-b367-45aa-83dd-2fd29ecd222b",
   "metadata": {},
   "outputs": [],
   "source": [
    "def detectAndWriteCascade(img_path, annotated_path):\n",
    "    img = cv2.imread(img_path) \n",
    "    gray_img = cv2.cvtColor(img, cv2.COLOR_BGR2GRAY) \n",
    "    \n",
    "    haar_cascade = cv2.CascadeClassifier('data/haarcascades/haarcascade_frontalface_alt.xml') \n",
    "    \n",
    "    faces_rect = haar_cascade.detectMultiScale(gray_img, 1.1, 9) \n",
    "    \n",
    "    for (x, y, w, h) in faces_rect: \n",
    "    \tcv2.rectangle(img, (x, y), (x+w, y+h), (0, 255, 0), 2) \n",
    "    \n",
    "    cv2.imwrite(annotated_path, img)"
   ]
  },
  {
   "cell_type": "code",
   "execution_count": 61,
   "id": "2eb2c115-4b3b-4f18-8d7e-d124706b0ded",
   "metadata": {},
   "outputs": [],
   "source": [
    "for i in range(10):\n",
    "    detectAndWriteCascade(f'./images/faces_no_boxes_{i+1}.jpg', f'./images/faces_cascade_{i+1}.jpg')"
   ]
  },
  {
   "cell_type": "code",
   "execution_count": null,
   "id": "03efaec4-9832-45ef-8246-ba327e518c4b",
   "metadata": {},
   "outputs": [],
   "source": [
    "from retinaface import RetinaFace\n",
    "import matplotlib.pyplot as plt\n",
    "\n",
    "faces = RetinaFace.extract_faces(img_path = './images/no_faces_1.jpg', align = False)\n",
    "for face in faces:\n",
    "    plt.imshow(face)\n",
    "    plt.show()"
   ]
  },
  {
   "cell_type": "code",
   "execution_count": 53,
   "id": "92d72389-9bcd-4011-99fc-d10090708f9f",
   "metadata": {},
   "outputs": [
    {
     "name": "stdout",
     "output_type": "stream",
     "text": [
      "\n",
      "image 1/1 /home/stnz/coding/exercises_2024/classes/computer_vision/lab09/images/faces_no_boxes_5.jpg: 448x640 8 persons, 1 baseball glove, 121.7ms\n",
      "Speed: 3.3ms preprocess, 121.7ms inference, 3.3ms postprocess per image at shape (1, 3, 448, 640)\n"
     ]
    }
   ],
   "source": [
    "model = YOLO('yolov8n.pt')  # Choose a YOLOv8 variant\n",
    "\n",
    "# Load the image or video\n",
    "image_path = './images/faces_no_boxes_5.jpg'\n",
    "img = cv2.imread(image_path)\n",
    "\n",
    "# Perform inference\n",
    "results = model(image_path)\n",
    "\n",
    "# Access bounding boxes and confidence scores\n",
    "for result in results:\n",
    "    boxes = result.boxes\n",
    "    for box in boxes:\n",
    "        x1, y1, x2, y2 = box.xyxy[0]\n",
    "        x1, y1, x2, y2 = int(x1), int(y1), int(x2), int(y2)\n",
    "        cv2.rectangle(img, (x1, y1), (x2, y2), (0, 255, 0), 2)\n",
    "\n",
    "        confidence = box.conf[0]\n",
    "        class_id = box.cls[0]\n",
    "        label = f\"Person: {confidence:.2f}\"\n",
    "        cv2.putText(img, label, (x1, y1 - 10), cv2.FONT_HERSHEY_SIMPLEX, 0.5, (0, 255, 0), 2)\n",
    "\n",
    "\n",
    "while True:\n",
    "    cv2.imshow('Detected faces', img) \n",
    "\n",
    "    if cv2.waitKey(1) & 0xFF == ord('q'):\n",
    "        break\n",
    "\n",
    "cv2.destroyAllWindows()"
   ]
  },
  {
   "cell_type": "code",
   "execution_count": 62,
   "id": "c7d10389-ba20-49a9-b1f7-327fb8db9541",
   "metadata": {},
   "outputs": [],
   "source": [
    "def detectAndWriteYOLO(img_path, annotated_path):\n",
    "    model = YOLO('yolov8n.pt')  # Choose a YOLOv8 variant\n",
    "    \n",
    "    # Load the image or video\n",
    "    img = cv2.imread(img_path)\n",
    "    \n",
    "    # Perform inference\n",
    "    results = model(img_path)\n",
    "    \n",
    "    # Access bounding boxes and confidence scores\n",
    "    for result in results:\n",
    "        boxes = result.boxes\n",
    "        for box in boxes:\n",
    "            x1, y1, x2, y2 = box.xyxy[0]\n",
    "            x1, y1, x2, y2 = int(x1), int(y1), int(x2), int(y2)\n",
    "            cv2.rectangle(img, (x1, y1), (x2, y2), (0, 255, 0), 2)\n",
    "    \n",
    "            confidence = box.conf[0]\n",
    "            class_id = box.cls[0]\n",
    "            label = f\"Person: {confidence:.2f}\"\n",
    "            cv2.putText(img, label, (x1, y1 - 10), cv2.FONT_HERSHEY_SIMPLEX, 0.5, (0, 255, 0), 2)\n",
    "\n",
    "    cv2.imwrite(annotated_path, img)"
   ]
  },
  {
   "cell_type": "code",
   "execution_count": 63,
   "id": "ca13a4fc-c030-43bf-965f-140b4530984a",
   "metadata": {},
   "outputs": [
    {
     "name": "stdout",
     "output_type": "stream",
     "text": [
      "\n",
      "image 1/1 /home/stnz/coding/exercises_2024/classes/computer_vision/lab09/images/faces_no_boxes_1.jpg: 320x640 16 persons, 150.9ms\n",
      "Speed: 4.4ms preprocess, 150.9ms inference, 1.4ms postprocess per image at shape (1, 3, 320, 640)\n",
      "\n",
      "image 1/1 /home/stnz/coding/exercises_2024/classes/computer_vision/lab09/images/faces_no_boxes_2.jpg: 384x640 5 persons, 110.8ms\n",
      "Speed: 2.7ms preprocess, 110.8ms inference, 1.2ms postprocess per image at shape (1, 3, 384, 640)\n",
      "\n",
      "image 1/1 /home/stnz/coding/exercises_2024/classes/computer_vision/lab09/images/faces_no_boxes_3.jpg: 384x640 13 persons, 1 cup, 138.2ms\n",
      "Speed: 4.0ms preprocess, 138.2ms inference, 1.2ms postprocess per image at shape (1, 3, 384, 640)\n",
      "\n",
      "image 1/1 /home/stnz/coding/exercises_2024/classes/computer_vision/lab09/images/faces_no_boxes_4.jpg: 384x640 3 persons, 4 teddy bears, 112.6ms\n",
      "Speed: 3.8ms preprocess, 112.6ms inference, 1.2ms postprocess per image at shape (1, 3, 384, 640)\n",
      "\n",
      "image 1/1 /home/stnz/coding/exercises_2024/classes/computer_vision/lab09/images/faces_no_boxes_5.jpg: 448x640 8 persons, 1 baseball glove, 132.0ms\n",
      "Speed: 3.1ms preprocess, 132.0ms inference, 1.3ms postprocess per image at shape (1, 3, 448, 640)\n",
      "\n",
      "image 1/1 /home/stnz/coding/exercises_2024/classes/computer_vision/lab09/images/faces_no_boxes_6.jpg: 480x640 17 persons, 2 ties, 172.8ms\n",
      "Speed: 4.3ms preprocess, 172.8ms inference, 1.4ms postprocess per image at shape (1, 3, 480, 640)\n",
      "\n",
      "image 1/1 /home/stnz/coding/exercises_2024/classes/computer_vision/lab09/images/faces_no_boxes_7.jpg: 384x640 10 persons, 119.1ms\n",
      "Speed: 5.3ms preprocess, 119.1ms inference, 1.6ms postprocess per image at shape (1, 3, 384, 640)\n",
      "\n",
      "image 1/1 /home/stnz/coding/exercises_2024/classes/computer_vision/lab09/images/faces_no_boxes_8.jpg: 256x640 9 persons, 2 ties, 86.0ms\n",
      "Speed: 1.9ms preprocess, 86.0ms inference, 1.1ms postprocess per image at shape (1, 3, 256, 640)\n",
      "\n",
      "image 1/1 /home/stnz/coding/exercises_2024/classes/computer_vision/lab09/images/faces_no_boxes_9.jpg: 384x640 13 persons, 172.1ms\n",
      "Speed: 2.6ms preprocess, 172.1ms inference, 6.6ms postprocess per image at shape (1, 3, 384, 640)\n",
      "\n",
      "image 1/1 /home/stnz/coding/exercises_2024/classes/computer_vision/lab09/images/faces_no_boxes_10.jpg: 512x640 (no detections), 140.8ms\n",
      "Speed: 6.6ms preprocess, 140.8ms inference, 0.8ms postprocess per image at shape (1, 3, 512, 640)\n"
     ]
    }
   ],
   "source": [
    "for i in range(10):\n",
    "    detectAndWriteYOLO(f'./images/faces_no_boxes_{i+1}.jpg', f'./images/faces_yolo_{i+1}.jpg')"
   ]
  },
  {
   "cell_type": "code",
   "execution_count": null,
   "id": "6e879bef-c9e5-46dd-9147-f273ddbbed13",
   "metadata": {},
   "outputs": [],
   "source": []
  }
 ],
 "metadata": {
  "kernelspec": {
   "display_name": "Python 3 (ipykernel)",
   "language": "python",
   "name": "python3"
  },
  "language_info": {
   "codemirror_mode": {
    "name": "ipython",
    "version": 3
   },
   "file_extension": ".py",
   "mimetype": "text/x-python",
   "name": "python",
   "nbconvert_exporter": "python",
   "pygments_lexer": "ipython3",
   "version": "3.10.12"
  }
 },
 "nbformat": 4,
 "nbformat_minor": 5
}
