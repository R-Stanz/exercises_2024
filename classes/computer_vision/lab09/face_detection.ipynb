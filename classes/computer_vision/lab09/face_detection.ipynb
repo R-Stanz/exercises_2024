{
 "cells": [
  {
   "cell_type": "markdown",
   "id": "03521bc9-8d74-4a9a-b621-030663ec2a71",
   "metadata": {},
   "source": [
    "# Face Detection Techniques"
   ]
  },
  {
   "cell_type": "markdown",
   "id": "a6a4eeb2-dfa4-4686-91e7-735ca4e3c9e8",
   "metadata": {},
   "source": [
    "<p> Libraries"
   ]
  },
  {
   "cell_type": "code",
   "execution_count": 1,
   "id": "725c415c-18f6-464b-94b5-4c2766f88b35",
   "metadata": {
    "scrolled": true
   },
   "outputs": [
    {
     "name": "stderr",
     "output_type": "stream",
     "text": [
      "2024-09-23 20:38:23.888327: E external/local_xla/xla/stream_executor/cuda/cuda_fft.cc:485] Unable to register cuFFT factory: Attempting to register factory for plugin cuFFT when one has already been registered\n",
      "2024-09-23 20:38:23.912912: E external/local_xla/xla/stream_executor/cuda/cuda_dnn.cc:8454] Unable to register cuDNN factory: Attempting to register factory for plugin cuDNN when one has already been registered\n",
      "2024-09-23 20:38:23.922126: E external/local_xla/xla/stream_executor/cuda/cuda_blas.cc:1452] Unable to register cuBLAS factory: Attempting to register factory for plugin cuBLAS when one has already been registered\n",
      "2024-09-23 20:38:23.946196: I tensorflow/core/platform/cpu_feature_guard.cc:210] This TensorFlow binary is optimized to use available CPU instructions in performance-critical operations.\n",
      "To enable the following instructions: AVX2 FMA, in other operations, rebuild TensorFlow with the appropriate compiler flags.\n",
      "2024-09-23 20:38:26.106424: W tensorflow/compiler/tf2tensorrt/utils/py_utils.cc:38] TF-TRT Warning: Could not find TensorRT\n"
     ]
    }
   ],
   "source": [
    "import cv2\n",
    "\n",
    "from retinaface import RetinaFace\n",
    "import matplotlib.pyplot as plt\n",
    "\n",
    "from ultralytics import YOLO"
   ]
  },
  {
   "cell_type": "markdown",
   "id": "b7fe381d-6d77-4378-9bfe-520895d00737",
   "metadata": {},
   "source": [
    "### Haarcascade"
   ]
  },
  {
   "cell_type": "markdown",
   "id": "ec70b0b5-dd2e-446c-a64b-1d867269fcf2",
   "metadata": {},
   "source": [
    "#### Manual Exemple"
   ]
  },
  {
   "cell_type": "code",
   "execution_count": 2,
   "id": "c967bcd6-27eb-4e93-aa75-b485d8f2ad45",
   "metadata": {},
   "outputs": [],
   "source": [
    "img = cv2.imread('./images/faces_no_boxes_7.jpg') \n",
    "gray_img = cv2.cvtColor(img, cv2.COLOR_BGR2GRAY) \n",
    "\n",
    "haar_cascade = cv2.CascadeClassifier('data/haarcascades/haarcascade_frontalface_alt.xml') \n",
    "\n",
    "faces_rect = haar_cascade.detectMultiScale(gray_img, 1.1, 9) \n",
    "\n",
    "for (x, y, w, h) in faces_rect: \n",
    "\tcv2.rectangle(img, (x, y), (x+w, y+h), (0, 255, 0), 2) \n",
    "\n",
    "while True:\n",
    "    cv2.imshow('Detected faces', img) \n",
    "\n",
    "    if cv2.waitKey(1) & 0xFF == ord('q'):\n",
    "        break\n",
    "\n",
    "cv2.destroyAllWindows()"
   ]
  },
  {
   "cell_type": "markdown",
   "id": "005cd937-4038-4056-8d69-d7535d9f8cb0",
   "metadata": {},
   "source": [
    "#### Automated"
   ]
  },
  {
   "cell_type": "code",
   "execution_count": 3,
   "id": "72ff2fba-b367-45aa-83dd-2fd29ecd222b",
   "metadata": {},
   "outputs": [],
   "source": [
    "def detectAndWriteCascade(img_path, annotated_path):\n",
    "    img = cv2.imread(img_path) \n",
    "    gray_img = cv2.cvtColor(img, cv2.COLOR_BGR2GRAY) \n",
    "    \n",
    "    haar_cascade = cv2.CascadeClassifier('data/haarcascades/haarcascade_frontalface_alt.xml') \n",
    "    \n",
    "    faces_rect = haar_cascade.detectMultiScale(gray_img, 1.1, 9) \n",
    "    \n",
    "    for (x, y, w, h) in faces_rect: \n",
    "    \tcv2.rectangle(img, (x, y), (x+w, y+h), (0, 255, 0), 2) \n",
    "    \n",
    "    cv2.imwrite(annotated_path, img)"
   ]
  },
  {
   "cell_type": "code",
   "execution_count": 4,
   "id": "2eb2c115-4b3b-4f18-8d7e-d124706b0ded",
   "metadata": {},
   "outputs": [],
   "source": [
    "for i in range(10):\n",
    "    detectAndWriteCascade(f'./images/faces_no_boxes_{i+1}.jpg', f'./images/faces_cascade_{i+1}.jpg')"
   ]
  },
  {
   "cell_type": "markdown",
   "id": "9bfac9c9-d8b2-43f9-b4eb-9744275cbe3f",
   "metadata": {},
   "source": [
    "### Retinaface"
   ]
  },
  {
   "cell_type": "markdown",
   "id": "18dda6c1-b964-4bf0-86ff-daf118d4ddd0",
   "metadata": {},
   "source": [
    "#### Manual Example"
   ]
  },
  {
   "cell_type": "code",
   "execution_count": 5,
   "id": "03efaec4-9832-45ef-8246-ba327e518c4b",
   "metadata": {},
   "outputs": [
    {
     "name": "stderr",
     "output_type": "stream",
     "text": [
      "2024-09-23 20:39:00.200625: W external/local_tsl/tsl/framework/cpu_allocator_impl.cc:83] Allocation of 119275520 exceeds 10% of free system memory.\n",
      "2024-09-23 20:39:00.372734: W external/local_tsl/tsl/framework/cpu_allocator_impl.cc:83] Allocation of 120004608 exceeds 10% of free system memory.\n",
      "2024-09-23 20:39:00.516636: W external/local_tsl/tsl/framework/cpu_allocator_impl.cc:83] Allocation of 119275520 exceeds 10% of free system memory.\n",
      "2024-09-23 20:39:00.739357: W external/local_tsl/tsl/framework/cpu_allocator_impl.cc:83] Allocation of 119275520 exceeds 10% of free system memory.\n",
      "2024-09-23 20:39:00.860616: W external/local_tsl/tsl/framework/cpu_allocator_impl.cc:83] Allocation of 119275520 exceeds 10% of free system memory.\n"
     ]
    }
   ],
   "source": [
    "image_path = './images/faces_no_boxes_7.jpg'\n",
    "\n",
    "faces_info = RetinaFace.detect_faces(image_path)\n",
    "img = cv2.imread(image_path) \n",
    "\n",
    "for face_id in faces_info.keys():\n",
    "    face = faces_info[face_id]\n",
    "    \n",
    "    x1, y1, x2, y2 = face[\"facial_area\"]\n",
    "    cv2.rectangle(img, (x2, y2), (x1, y1), (0, 255, 0), 2)\n",
    "\n",
    "    score = face['score']\n",
    "    label = f\"Face: {score:.2f}\"\n",
    "    cv2.putText(img, label, (x1, y1 - 10), cv2.FONT_HERSHEY_SIMPLEX, 0.5, (0, 255, 0), 2)\n",
    "\n",
    "while True:\n",
    "    cv2.imshow('Detected faces', img) \n",
    "\n",
    "    if cv2.waitKey(1) & 0xFF == ord('q'):\n",
    "        break\n",
    "\n",
    "cv2.destroyAllWindows()"
   ]
  },
  {
   "cell_type": "markdown",
   "id": "0714f0bf-86f7-4259-a75a-bb123dd39d32",
   "metadata": {},
   "source": [
    "#### Automated"
   ]
  },
  {
   "cell_type": "code",
   "execution_count": 6,
   "id": "07a9cc83-ec7a-4ea7-b986-f60964a89c0e",
   "metadata": {},
   "outputs": [],
   "source": [
    "def detectAndWriteRetinaface(img_path, annotated_path):\n",
    "    faces_info = RetinaFace.detect_faces(img_path)\n",
    "    img = cv2.imread(img_path) \n",
    "    \n",
    "    for face_id in faces_info.keys():\n",
    "        face = faces_info[face_id]\n",
    "        \n",
    "        x1, y1, x2, y2 = face[\"facial_area\"]\n",
    "        cv2.rectangle(img, (x2, y2), (x1, y1), (0, 255, 0), 2)\n",
    "        \n",
    "        score = face['score']\n",
    "        label = f\"Face: {score:.2f}\"\n",
    "        cv2.putText(img, label, (x1, y1 - 10), cv2.FONT_HERSHEY_SIMPLEX, 0.5, (0, 255, 0), 2)\n",
    "\n",
    "    cv2.imwrite(annotated_path, img)"
   ]
  },
  {
   "cell_type": "code",
   "execution_count": 7,
   "id": "fdcd50bc-64dc-45a8-88e5-bb984959f635",
   "metadata": {},
   "outputs": [],
   "source": [
    "for i in range(10):\n",
    "    detectAndWriteRetinaface(f'./images/faces_no_boxes_{i+1}.jpg', f'./images/faces_retinaface_{i+1}.jpg')"
   ]
  },
  {
   "cell_type": "markdown",
   "id": "ebfd94e8-ea27-43d4-84ff-416df8454827",
   "metadata": {},
   "source": [
    "### YOLO"
   ]
  },
  {
   "cell_type": "markdown",
   "id": "fdbd2069-8532-49bc-8992-b9db0169efe5",
   "metadata": {},
   "source": [
    "#### Manual Example"
   ]
  },
  {
   "cell_type": "code",
   "execution_count": 8,
   "id": "92d72389-9bcd-4011-99fc-d10090708f9f",
   "metadata": {},
   "outputs": [
    {
     "name": "stdout",
     "output_type": "stream",
     "text": [
      "\n",
      "image 1/1 /home/stnz/coding/exercises_2024/classes/computer_vision/lab09/images/faces_no_boxes_7.jpg: 384x640 10 persons, 287.0ms\n",
      "Speed: 5.0ms preprocess, 287.0ms inference, 4.8ms postprocess per image at shape (1, 3, 384, 640)\n"
     ]
    }
   ],
   "source": [
    "model = YOLO('yolov8n.pt')  # Choose a YOLOv8 variant\n",
    "\n",
    "# Load the image or video\n",
    "image_path = './images/faces_no_boxes_7.jpg'\n",
    "img = cv2.imread(image_path)\n",
    "\n",
    "# Perform inference\n",
    "results = model(image_path)\n",
    "\n",
    "# Access bounding boxes and confidence scores\n",
    "for result in results:\n",
    "    boxes = result.boxes\n",
    "    for box in boxes:\n",
    "        x1, y1, x2, y2 = box.xyxy[0]\n",
    "        x1, y1, x2, y2 = int(x1), int(y1), int(x2), int(y2)\n",
    "        cv2.rectangle(img, (x1, y1), (x2, y2), (0, 255, 0), 2)\n",
    "\n",
    "        confidence = box.conf[0]\n",
    "        class_id = box.cls[0]\n",
    "        label = f\"Person: {confidence:.2f}\"\n",
    "        cv2.putText(img, label, (x1, y1 - 10), cv2.FONT_HERSHEY_SIMPLEX, 0.5, (0, 255, 0), 2)\n",
    "\n",
    "\n",
    "while True:\n",
    "    cv2.imshow('Detected faces', img) \n",
    "\n",
    "    if cv2.waitKey(1) & 0xFF == ord('q'):\n",
    "        break\n",
    "\n",
    "cv2.destroyAllWindows()"
   ]
  },
  {
   "cell_type": "markdown",
   "id": "e41af2dd-aebe-4f16-803e-cbeefd7e2455",
   "metadata": {},
   "source": [
    "#### Automated"
   ]
  },
  {
   "cell_type": "code",
   "execution_count": 9,
   "id": "c7d10389-ba20-49a9-b1f7-327fb8db9541",
   "metadata": {},
   "outputs": [],
   "source": [
    "def detectAndWriteYOLO(img_path, annotated_path):\n",
    "    model = YOLO('yolov8n.pt') \n",
    "    \n",
    "    img = cv2.imread(img_path)\n",
    "    \n",
    "    results = model(img_path)\n",
    "    \n",
    "    for result in results:\n",
    "        boxes = result.boxes\n",
    "        for box in boxes:\n",
    "            x1, y1, x2, y2 = box.xyxy[0]\n",
    "            x1, y1, x2, y2 = int(x1), int(y1), int(x2), int(y2)\n",
    "            cv2.rectangle(img, (x1, y1), (x2, y2), (0, 255, 0), 2)\n",
    "    \n",
    "            confidence = box.conf[0]\n",
    "            class_id = box.cls[0]\n",
    "            label = f\"Person: {confidence:.2f}\"\n",
    "            cv2.putText(img, label, (x1, y1 - 10), cv2.FONT_HERSHEY_SIMPLEX, 0.5, (0, 255, 0), 2)\n",
    "\n",
    "    cv2.imwrite(annotated_path, img)"
   ]
  },
  {
   "cell_type": "code",
   "execution_count": 10,
   "id": "ca13a4fc-c030-43bf-965f-140b4530984a",
   "metadata": {
    "scrolled": true
   },
   "outputs": [
    {
     "name": "stdout",
     "output_type": "stream",
     "text": [
      "\n",
      "image 1/1 /home/stnz/coding/exercises_2024/classes/computer_vision/lab09/images/faces_no_boxes_1.jpg: 320x640 16 persons, 175.3ms\n",
      "Speed: 3.2ms preprocess, 175.3ms inference, 1.3ms postprocess per image at shape (1, 3, 320, 640)\n",
      "\n",
      "image 1/1 /home/stnz/coding/exercises_2024/classes/computer_vision/lab09/images/faces_no_boxes_2.jpg: 384x640 5 persons, 108.1ms\n",
      "Speed: 2.7ms preprocess, 108.1ms inference, 1.0ms postprocess per image at shape (1, 3, 384, 640)\n",
      "\n",
      "image 1/1 /home/stnz/coding/exercises_2024/classes/computer_vision/lab09/images/faces_no_boxes_3.jpg: 384x640 13 persons, 1 cup, 122.3ms\n",
      "Speed: 2.7ms preprocess, 122.3ms inference, 1.2ms postprocess per image at shape (1, 3, 384, 640)\n",
      "\n",
      "image 1/1 /home/stnz/coding/exercises_2024/classes/computer_vision/lab09/images/faces_no_boxes_4.jpg: 384x640 3 persons, 4 teddy bears, 114.7ms\n",
      "Speed: 2.7ms preprocess, 114.7ms inference, 1.0ms postprocess per image at shape (1, 3, 384, 640)\n",
      "\n",
      "image 1/1 /home/stnz/coding/exercises_2024/classes/computer_vision/lab09/images/faces_no_boxes_5.jpg: 448x640 8 persons, 1 baseball glove, 275.5ms\n",
      "Speed: 3.9ms preprocess, 275.5ms inference, 1.6ms postprocess per image at shape (1, 3, 448, 640)\n",
      "\n",
      "image 1/1 /home/stnz/coding/exercises_2024/classes/computer_vision/lab09/images/faces_no_boxes_6.jpg: 480x640 17 persons, 2 ties, 247.3ms\n",
      "Speed: 3.1ms preprocess, 247.3ms inference, 1.1ms postprocess per image at shape (1, 3, 480, 640)\n",
      "\n",
      "image 1/1 /home/stnz/coding/exercises_2024/classes/computer_vision/lab09/images/faces_no_boxes_7.jpg: 384x640 10 persons, 142.7ms\n",
      "Speed: 4.1ms preprocess, 142.7ms inference, 1.1ms postprocess per image at shape (1, 3, 384, 640)\n",
      "\n",
      "image 1/1 /home/stnz/coding/exercises_2024/classes/computer_vision/lab09/images/faces_no_boxes_8.jpg: 256x640 9 persons, 2 ties, 97.9ms\n",
      "Speed: 1.6ms preprocess, 97.9ms inference, 1.1ms postprocess per image at shape (1, 3, 256, 640)\n",
      "\n",
      "image 1/1 /home/stnz/coding/exercises_2024/classes/computer_vision/lab09/images/faces_no_boxes_9.jpg: 384x640 13 persons, 111.1ms\n",
      "Speed: 2.5ms preprocess, 111.1ms inference, 1.3ms postprocess per image at shape (1, 3, 384, 640)\n",
      "\n",
      "image 1/1 /home/stnz/coding/exercises_2024/classes/computer_vision/lab09/images/faces_no_boxes_10.jpg: 512x640 (no detections), 193.7ms\n",
      "Speed: 7.5ms preprocess, 193.7ms inference, 0.8ms postprocess per image at shape (1, 3, 512, 640)\n"
     ]
    }
   ],
   "source": [
    "for i in range(10):\n",
    "    detectAndWriteYOLO(f'./images/faces_no_boxes_{i+1}.jpg', f'./images/faces_yolo_{i+1}.jpg')"
   ]
  },
  {
   "cell_type": "code",
   "execution_count": null,
   "id": "6e879bef-c9e5-46dd-9147-f273ddbbed13",
   "metadata": {},
   "outputs": [],
   "source": []
  }
 ],
 "metadata": {
  "kernelspec": {
   "display_name": "Python 3 (ipykernel)",
   "language": "python",
   "name": "python3"
  },
  "language_info": {
   "codemirror_mode": {
    "name": "ipython",
    "version": 3
   },
   "file_extension": ".py",
   "mimetype": "text/x-python",
   "name": "python",
   "nbconvert_exporter": "python",
   "pygments_lexer": "ipython3",
   "version": "3.10.12"
  }
 },
 "nbformat": 4,
 "nbformat_minor": 5
}
